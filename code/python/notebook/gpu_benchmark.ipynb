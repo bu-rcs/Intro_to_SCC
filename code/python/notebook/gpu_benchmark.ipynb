{
 "cells": [
  {
   "cell_type": "markdown",
   "id": "4a71d06d",
   "metadata": {},
   "source": [
    "# TUTORIAL : PyTorch computation using multiple GPUs\n",
    "\n",
    "Tutorial from https://github.com/ovh/ai-training-examples/blob/main/notebooks/getting-started/pytorch/"
   ]
  },
  {
   "cell_type": "markdown",
   "id": "9b6b348e",
   "metadata": {},
   "source": [
    "### Step 1: Import PyTorch library"
   ]
  },
  {
   "cell_type": "code",
   "execution_count": 1,
   "id": "3211a0da",
   "metadata": {},
   "outputs": [],
   "source": [
    "import torch\n",
    "import torch.nn as nn\n",
    "import torch.nn.functional as F\n",
    "import torch.optim as optim\n",
    "from torchvision import datasets, transforms\n",
    "from torch.optim.lr_scheduler import StepLR"
   ]
  },
  {
   "cell_type": "markdown",
   "id": "91ccb891",
   "metadata": {},
   "source": [
    "### Step 2: Check that you have GPU(s) available on your notebook"
   ]
  },
  {
   "cell_type": "code",
   "execution_count": 2,
   "id": "4350be65",
   "metadata": {},
   "outputs": [
    {
     "name": "stdout",
     "output_type": "stream",
     "text": [
      "No GPU detected. Code will run on CPU\n"
     ]
    }
   ],
   "source": [
    "# Function returns True if GPU is available (False otherwise)\n",
    "\n",
    "if torch.cuda.is_available():\n",
    "\n",
    "    for device_index in range(torch.cuda.device_count()):\n",
    "        device = 'cuda:{}'.format(device_index)\n",
    "        device_name = torch.cuda.get_device_name(device)\n",
    "        print('{} ({})'.format(device, device_name))\n",
    "\n",
    "else:\n",
    "    print(\"No GPU detected. Code will run on CPU\")"
   ]
  },
  {
   "cell_type": "markdown",
   "id": "92fb7fe1",
   "metadata": {},
   "source": [
    "### Step 3: Declare the neural network to train"
   ]
  },
  {
   "cell_type": "code",
   "execution_count": 3,
   "id": "ff9a89b0",
   "metadata": {},
   "outputs": [],
   "source": [
    "class Net(nn.Module):\n",
    "    def __init__(self):\n",
    "        super(Net, self).__init__()\n",
    "        self.conv1 = nn.Conv2d(1, 32, 3, 1)\n",
    "        self.conv2 = nn.Conv2d(32, 64, 3, 1)\n",
    "        self.dropout1 = nn.Dropout(0.25)\n",
    "        self.dropout2 = nn.Dropout(0.5)\n",
    "        self.fc1 = nn.Linear(9216, 4096)\n",
    "        self.fc2 = nn.Linear(4096, 10)\n",
    "\n",
    "    def forward(self, x):\n",
    "        x = self.conv1(x)\n",
    "        x = F.relu(x)\n",
    "        x = self.conv2(x)\n",
    "        x = F.relu(x)\n",
    "        x = F.max_pool2d(x, 2)\n",
    "        x = self.dropout1(x)\n",
    "        x = torch.flatten(x, 1)\n",
    "        x = self.fc1(x)\n",
    "        x = F.relu(x)\n",
    "        x = self.dropout2(x)\n",
    "        x = self.fc2(x)\n",
    "        output = F.log_softmax(x, dim=1)\n",
    "        return output"
   ]
  },
  {
   "cell_type": "markdown",
   "id": "a13844c6",
   "metadata": {},
   "source": [
    "### Step 4: Declare train and test functions"
   ]
  },
  {
   "cell_type": "code",
   "execution_count": 4,
   "id": "d6478b8a",
   "metadata": {},
   "outputs": [],
   "source": [
    "def train(model, device, train_loader, test_loader, lr=1.0, gamma=0.7):\n",
    "    print()\n",
    "    print('Train {}'.format(device))\n",
    "    optimizer = optim.Adadelta(model.parameters(), lr=lr)\n",
    "    scheduler = StepLR(optimizer, step_size=1, gamma=gamma)\n",
    "    for epoch in range(1, epochs + 1):\n",
    "        train_one_epoch(model, device, train_loader, optimizer, epoch)\n",
    "        test(model, device, test_loader)\n",
    "        scheduler.step()\n",
    "\n",
    "def train_one_epoch(model, device, train_loader, optimizer, epoch):\n",
    "    losses = []\n",
    "    model.train()\n",
    "    for batch_idx, (data, target) in enumerate(train_loader):\n",
    "        data, target = data.to(device), target.to(device)\n",
    "        optimizer.zero_grad()\n",
    "        output = model(data)\n",
    "        loss = F.nll_loss(output, target)\n",
    "        loss.backward()\n",
    "        optimizer.step()\n",
    "        losses.append(loss.item())\n",
    "        if batch_idx % 50 == 0:\n",
    "            print('Train Epoch: {} [{}/{} ({:.0f}%)]\\tLoss: {:.6f}'.format(\n",
    "                epoch, batch_idx * len(data), len(train_loader.dataset),\n",
    "                100. * batch_idx / len(train_loader), loss.item()))\n",
    "    return losses\n",
    "                \n",
    "\n",
    "def test(model, device, test_loader):\n",
    "    model.eval()\n",
    "    test_loss = 0\n",
    "    correct = 0\n",
    "    with torch.no_grad():\n",
    "        for data, target in test_loader:\n",
    "            data, target = data.to(device), target.to(device)\n",
    "            output = model(data)\n",
    "            test_loss += F.nll_loss(output, target, reduction='sum').item()  # sum up batch loss\n",
    "            pred = output.argmax(dim=1, keepdim=True)  # get the index of the max log-probability\n",
    "            correct += pred.eq(target.view_as(pred)).sum().item()\n",
    "\n",
    "    test_loss /= len(test_loader.dataset)\n",
    "\n",
    "    print('\\nTest set: Average loss: {:.4f}, Accuracy: {}/{} ({:.0f}%)\\n'.format(\n",
    "        test_loss, correct, len(test_loader.dataset),\n",
    "        100. * correct / len(test_loader.dataset)))"
   ]
  },
  {
   "cell_type": "markdown",
   "id": "25a2af71",
   "metadata": {},
   "source": [
    "### Step 5: Load MNIST dataset"
   ]
  },
  {
   "cell_type": "code",
   "execution_count": 5,
   "id": "c97e7f5a",
   "metadata": {},
   "outputs": [],
   "source": [
    "transform=transforms.Compose([\n",
    "    transforms.ToTensor(),\n",
    "    transforms.Normalize((0.1307,), (0.3081,))\n",
    "])\n",
    "\n",
    "import os\n",
    "# create data directory if it does not exist\n",
    "if not os.path.exists('data'):\n",
    "    os.makedirs('data')\n",
    "\n",
    "dataset1 = datasets.MNIST('./data', train=True, download=True, transform=transform)\n",
    "dataset2 = datasets.MNIST('./data', train=False, transform=transform)"
   ]
  },
  {
   "cell_type": "markdown",
   "id": "49fabeda",
   "metadata": {},
   "source": [
    "### Step 6: Train model"
   ]
  },
  {
   "cell_type": "code",
   "execution_count": 6,
   "id": "cebd7928",
   "metadata": {},
   "outputs": [],
   "source": [
    "import timeit\n",
    "\n",
    "# Input batch size for training\n",
    "batch_size = 128\n",
    "# Input batch size for testing\n",
    "test_batch_size = 1000\n",
    "# Number of epochs to train\n",
    "epochs = 1\n",
    "\n",
    "train_loader = torch.utils.data.DataLoader(dataset1, batch_size=batch_size)\n",
    "test_loader = torch.utils.data.DataLoader(dataset2, batch_size=test_batch_size)\n",
    "\n",
    "# Check if running on CPU or GPU and assign device:\n",
    "if torch.cuda.is_available():\n",
    "    device = torch.device(\"cuda\")\n",
    "else:\n",
    "    device = torch.device(\"cpu\")\n",
    "model = Net().to(device)\n",
    "variables = {\n",
    "    'model': model, 'device': device, 'train_loader': train_loader, 'test_loader': test_loader,\n",
    "}\n"
   ]
  },
  {
   "cell_type": "code",
   "execution_count": 7,
   "id": "ad1a1147-9570-44c4-82e3-b3e7ca9ea8e5",
   "metadata": {},
   "outputs": [
    {
     "name": "stdout",
     "output_type": "stream",
     "text": [
      "\n",
      "Train cpu\n",
      "Train Epoch: 1 [0/60000 (0%)]\tLoss: 2.309468\n",
      "Train Epoch: 1 [6400/60000 (11%)]\tLoss: 0.230775\n",
      "Train Epoch: 1 [12800/60000 (21%)]\tLoss: 0.112454\n",
      "Train Epoch: 1 [19200/60000 (32%)]\tLoss: 0.198683\n",
      "Train Epoch: 1 [25600/60000 (43%)]\tLoss: 0.145765\n",
      "Train Epoch: 1 [32000/60000 (53%)]\tLoss: 0.107455\n",
      "Train Epoch: 1 [38400/60000 (64%)]\tLoss: 0.168479\n",
      "Train Epoch: 1 [44800/60000 (75%)]\tLoss: 0.109777\n",
      "Train Epoch: 1 [51200/60000 (85%)]\tLoss: 0.140758\n",
      "Train Epoch: 1 [57600/60000 (96%)]\tLoss: 0.065405\n",
      "\n",
      "Test set: Average loss: 0.0617, Accuracy: 9790/10000 (98%)\n",
      "\n",
      "Training took: 526.98s\n"
     ]
    }
   ],
   "source": [
    "# Execute code\n",
    "exe_time = timeit.timeit(f'train(model, device, train_loader, test_loader)', globals=variables, number=1, setup=\"from __main__ import train\")\n",
    "\n",
    "# Results\n",
    "print('Training took: {:.2f}s'.format(exe_time))"
   ]
  },
  {
   "cell_type": "code",
   "execution_count": null,
   "id": "4553b9a6",
   "metadata": {},
   "outputs": [],
   "source": []
  }
 ],
 "metadata": {
  "kernelspec": {
   "display_name": "Python 3 (ipykernel)",
   "language": "python",
   "name": "python3"
  },
  "language_info": {
   "codemirror_mode": {
    "name": "ipython",
    "version": 3
   },
   "file_extension": ".py",
   "mimetype": "text/x-python",
   "name": "python",
   "nbconvert_exporter": "python",
   "pygments_lexer": "ipython3",
   "version": "3.11.9"
  }
 },
 "nbformat": 4,
 "nbformat_minor": 5
}
